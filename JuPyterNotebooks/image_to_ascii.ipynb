{
 "cells": [
  {
   "cell_type": "markdown",
   "metadata": {},
   "source": [
    "Import required libraries"
   ]
  },
  {
   "cell_type": "code",
   "execution_count": 1,
   "metadata": {},
   "outputs": [],
   "source": [
    "from PIL import Image\n",
    "import numpy as np\n",
    "import math"
   ]
  },
  {
   "cell_type": "markdown",
   "metadata": {},
   "source": [
    "\" \"=255, .=249, '=245, -=247, _=245, :=244, \"=236, *=235, /=231, +=230, ==227, (=226, [= 221, ?= 220, {= 216, #=205, §=198, %=191, $=186, @=162"
   ]
  },
  {
   "cell_type": "code",
   "execution_count": null,
   "metadata": {},
   "outputs": [],
   "source": [
    "asciiTable=[\"@\", \"$\", \"%\", \"§\", \"#\", \"{\", \"?\", \"[\", \"(\", \"=\", \"+\", \"/\", \"*\", \"\\\"\", \":\", \"_\", \"-\", \"'\", \".\", \" \"]\n",
    "image_path = \"C:\\\\Users\\\\TimHeil\\\\Pictures\\\\Screenshots\\\\dot.gif\"\n",
    "\n",
    "image = Image.open(image_path)\n",
    "image = image.convert(\"L\")\n",
    "width, height = image.size\n",
    "scaleFactor = 8\n",
    "print(width, height)\n",
    "print(len(asciiTable))"
   ]
  },
  {
   "cell_type": "code",
   "execution_count": 4,
   "metadata": {},
   "outputs": [
    {
     "name": "stdout",
     "output_type": "stream",
     "text": [
      "249\n"
     ]
    }
   ],
   "source": [
    "image_matrix = np.array(image)\n",
    "\n",
    "avgDarkness = np.int64(0)\n",
    "for row in image_matrix:\n",
    "    for elem in row:\n",
    "        avgDarkness += elem\n",
    "\n",
    "avgDarkness=int((avgDarkness)/(width*height))      \n",
    "print(avgDarkness)\n"
   ]
  },
  {
   "cell_type": "code",
   "execution_count": 5,
   "metadata": {},
   "outputs": [
    {
     "name": "stdout",
     "output_type": "stream",
     "text": [
      ".\n"
     ]
    }
   ],
   "source": [
    "asciiIndex = np.int64(np.floor((avgDarkness/255)*19))\n",
    "asciiChar = asciiTable[asciiIndex]\n",
    "print(asciiChar)"
   ]
  },
  {
   "cell_type": "code",
   "execution_count": 6,
   "metadata": {},
   "outputs": [],
   "source": [
    "avgDarkness = np.int64(0)\n",
    "yIterations = np.floor(width/8)\n",
    "xIterations = np.floor(height/8)\n",
    "chunksize = 8\n",
    "\n"
   ]
  },
  {
   "cell_type": "code",
   "execution_count": null,
   "metadata": {},
   "outputs": [],
   "source": [
    "array2d = [[\"1\", \"2\", \"3\", \"4\", \"5\", \"6\"], [\"1\", \"2\", \"3\", \"4\", \"5\", \"6\"], [\"1\", \"2\", \"3\", \"4\", \"5\", \"6\"]]\n",
    "array = [\"1\", \"2\", \"3\", \"4\", \"5\", \"6\"]\n",
    "\n",
    "for i in range(0, 3, 1):\n",
    "   for j in range(0, 6, 1):\n",
    "       print(array2d[i][j])\n",
    "\n",
    "avg = 0\n",
    "\n",
    "for i in range(0, len(array), 1):\n",
    "    avg+=i\n",
    "    \n",
    "print(avg/len(array))\n"
   ]
  },
  {
   "cell_type": "code",
   "execution_count": null,
   "metadata": {},
   "outputs": [
    {
     "name": "stdout",
     "output_type": "stream",
     "text": [
      "[1 2 3 4 5 6]\n",
      "1.5\n",
      "3.5\n",
      "5.5\n"
     ]
    }
   ],
   "source": [
    "array = np.array([[1, 2, 3, 4, 5, 6],[7, 8, 9, 10, 11, 12],[13, 14, 15, 16, 17, 18]])\n",
    "\n",
    "row = array[0]\n",
    "\n",
    "print(row)\n",
    "\n",
    "avgCounter = 0\n",
    "avg = 0\n",
    "\n",
    "for i in row:\n",
    "    avg+=i\n",
    "    if avgCounter == 1:\n",
    "        print(avg/2)\n",
    "        avgCounter=0\n",
    "        avg=0\n",
    "    else:\n",
    "        avgCounter+=1\n",
    "    \n",
    "\n"
   ]
  },
  {
   "cell_type": "code",
   "execution_count": 23,
   "metadata": {},
   "outputs": [
    {
     "name": "stdout",
     "output_type": "stream",
     "text": [
      "8 8\n",
      "20\n",
      "[[255 255 255 255 255 255 255 255]\n",
      " [255 255 255 255 255 255 255 255]\n",
      " [255 255 255 255 255 255 255 255]\n",
      " [255 255 255 255 255 255 255 255]\n",
      " [255 255 255 208 236 255 255 255]\n",
      " [255 255 255  87 152 255 255 255]\n",
      " [255 255 255 255 255 255 255 255]\n",
      " [255 255 255 255 255 255 255 255]]\n",
      "@"
     ]
    }
   ],
   "source": [
    "from PIL import Image\n",
    "import numpy as np\n",
    "import math\n",
    "\n",
    "asciiTable=[\"@\", \"$\", \"%\", \"§\", \"#\", \"{\", \"?\", \"[\", \"(\", \"=\", \"+\", \"/\", \"*\", \"\\\"\", \":\", \"_\", \"-\", \"'\", \".\", \" \"]\n",
    "image_path = \"C:\\\\Users\\\\TimHeil\\\\Pictures\\\\Screenshots\\\\dot.gif\"\n",
    "\n",
    "image = Image.open(image_path)\n",
    "image = image.convert(\"L\")\n",
    "width, height = image.size\n",
    "scaleFactor = 8\n",
    "print(width, height)\n",
    "print(len(asciiTable))\n",
    "avgDarkness = np.int64(0)\n",
    "yIterations = np.floor(width/8)\n",
    "xIterations = np.floor(height/8)\n",
    "chunksize = 8\n",
    "\n",
    "image_matrix = np.array(image)\n",
    "\n",
    "def getAverageMatrixDarkness(image_submatrix):\n",
    "    avgMatrixDarkness = np.int64(0)\n",
    "    for row in image_submatrix:\n",
    "        for elem in row:\n",
    "            avgMatrixDarkness += elem\n",
    "    avgMatrixDarkness=int((avgDarkness)/(width*height))      \n",
    "    return avgMatrixDarkness\n",
    "\n",
    "def getAsciiCharacter(avgDarkness):\n",
    "    asciiIndex = np.int64(np.floor((avgDarkness/255)*19))\n",
    "    asciiChar = asciiTable[asciiIndex]\n",
    "    return asciiChar\n",
    "\n",
    "def getSubmatrix(matrix, start_row, start_col):\n",
    "    size = 8\n",
    "    return matrix[start_row:start_row + size, start_col:start_col + size]\n",
    "\n",
    "submatrix = getSubmatrix(image_matrix, 0, 0)\n",
    "print(submatrix)\n",
    "\n",
    "def convertImage(image_matrix):\n",
    "    for i in range(0, height, 8):\n",
    "        for j in range(0, width, 8):\n",
    "            print(getAsciiCharacter(getAverageMatrixDarkness(getSubmatrix(image_matrix, i, j))), end=\"\")\n",
    "            if(j==height-1):\n",
    "                print(\"\\n\")\n",
    "        \n",
    "    \n",
    "    \n",
    "convertImage(image_matrix)"
   ]
  },
  {
   "cell_type": "code",
   "execution_count": 7,
   "metadata": {},
   "outputs": [
    {
     "name": "stdout",
     "output_type": "stream",
     "text": [
      "abcdef"
     ]
    }
   ],
   "source": [
    "print(\"abc\", end=\"\")\n",
    "print(\"def\", end=\"\")"
   ]
  }
 ],
 "metadata": {
  "kernelspec": {
   "display_name": "Python 3",
   "language": "python",
   "name": "python3"
  },
  "language_info": {
   "codemirror_mode": {
    "name": "ipython",
    "version": 3
   },
   "file_extension": ".py",
   "mimetype": "text/x-python",
   "name": "python",
   "nbconvert_exporter": "python",
   "pygments_lexer": "ipython3",
   "version": "3.13.2"
  }
 },
 "nbformat": 4,
 "nbformat_minor": 2
}
