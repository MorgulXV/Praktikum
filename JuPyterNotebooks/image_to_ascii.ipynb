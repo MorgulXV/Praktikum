{
 "cells": [
  {
   "cell_type": "markdown",
   "metadata": {},
   "source": [
    "Import required libraries"
   ]
  },
  {
   "cell_type": "code",
   "execution_count": 26,
   "metadata": {},
   "outputs": [],
   "source": [
    "from PIL import Image\n",
    "import numpy as np\n",
    "import math"
   ]
  },
  {
   "cell_type": "markdown",
   "metadata": {},
   "source": [
    "Convert image to grayscale"
   ]
  },
  {
   "cell_type": "code",
   "execution_count": 28,
   "metadata": {},
   "outputs": [
    {
     "name": "stdout",
     "output_type": "stream",
     "text": [
      "8 8\n",
      "[[255 255 255 255 255 255 255 255]\n",
      " [255 255 255 255 255 255 255 255]\n",
      " [255 255   0 255 255   0 255 255]\n",
      " [255 255 255 255 255 255 255 255]\n",
      " [255 255 255 255 255 255 255 255]\n",
      " [255   0 255 255 255 255   0 255]\n",
      " [255 255   0   0   0   0 255 255]\n",
      " [255 255 255 255 255 255 255 255]]\n",
      "223.0\n"
     ]
    }
   ],
   "source": [
    "image_path = \"C:\\\\Users\\\\TimHeil\\\\Pictures\\\\Screenshots\\\\untitled.gif\"\n",
    "image = Image.open(image_path)\n",
    "image = image.convert(\"L\")\n",
    "image.show()\n",
    "width, height = image.size\n",
    "print(width, height)\n",
    "image_matrix = np.array(image)\n",
    "\n",
    "print(image_matrix)\n",
    "\n",
    "avgDarkness = np.int64(0)\n",
    "for row in image_matrix:\n",
    "    for elem in row:\n",
    "        avgDarkness += elem\n",
    "        \n",
    "print(np.floor(avgDarkness/64))"
   ]
  }
 ],
 "metadata": {
  "kernelspec": {
   "display_name": "Python 3",
   "language": "python",
   "name": "python3"
  },
  "language_info": {
   "codemirror_mode": {
    "name": "ipython",
    "version": 3
   },
   "file_extension": ".py",
   "mimetype": "text/x-python",
   "name": "python",
   "nbconvert_exporter": "python",
   "pygments_lexer": "ipython3",
   "version": "3.13.2"
  }
 },
 "nbformat": 4,
 "nbformat_minor": 2
}
