{
 "cells": [
  {
   "cell_type": "markdown",
   "metadata": {},
   "source": [
    "Import required libraries"
   ]
  },
  {
   "cell_type": "code",
   "execution_count": 1,
   "metadata": {},
   "outputs": [],
   "source": [
    "from PIL import Image\n",
    "import numpy as np\n",
    "import math"
   ]
  },
  {
   "cell_type": "markdown",
   "metadata": {},
   "source": [
    "\" \"=255, .=249, '=245, -=247, _=245, :=244, \"=236, *=235, /=231, +=230, ==227, (=226, [= 221, ?= 220, {= 216, #=205, §=198, %=191, $=186, @=162"
   ]
  },
  {
   "cell_type": "code",
   "execution_count": 2,
   "metadata": {},
   "outputs": [
    {
     "name": "stdout",
     "output_type": "stream",
     "text": [
      "736 736\n"
     ]
    }
   ],
   "source": [
    "asciiTable=[\" \", \".\", \"'\", \"-\", \"_\", \":\", \"\\\"\", \"*\", \"/\", \"+\", \"=\", \"(\", \"[\", \"?\", \"{\", \"#\", \"§\", \"%\", \"$\", \"@\"]\n",
    "image_path = \"C:\\\\Users\\\\TimHeil\\\\Pictures\\\\Screenshots\\\\Tux_gif.gif\"\n",
    "\n",
    "image = Image.open(image_path)\n",
    "image = image.convert(\"L\")\n",
    "width, height = image.size\n",
    "scaleFactor = 8\n",
    "print(width, height)"
   ]
  },
  {
   "cell_type": "code",
   "execution_count": 3,
   "metadata": {},
   "outputs": [
    {
     "name": "stdout",
     "output_type": "stream",
     "text": [
      "199\n"
     ]
    }
   ],
   "source": [
    "image_matrix = np.array(image)\n",
    "\n",
    "avgDarkness = np.int64(0)\n",
    "for row in image_matrix:\n",
    "    for elem in row:\n",
    "        avgDarkness += elem\n",
    "\n",
    "avgDarkness=int((avgDarkness)/(width*height))      \n",
    "print(avgDarkness)\n"
   ]
  },
  {
   "cell_type": "code",
   "execution_count": 4,
   "metadata": {},
   "outputs": [
    {
     "name": "stdout",
     "output_type": "stream",
     "text": [
      "{\n"
     ]
    }
   ],
   "source": [
    "asciiIndex = np.int64(np.floor((avgDarkness/255)*19))\n",
    "asciiChar = asciiTable[asciiIndex]\n",
    "print(asciiChar)"
   ]
  },
  {
   "cell_type": "code",
   "execution_count": null,
   "metadata": {},
   "outputs": [],
   "source": [
    "windowXIndex = 1\n",
    "windowYIndex = 1\n",
    "\n",
    "for windowXIndex in image_matrix:\n",
    "    for windowYIndex in image_matrix:\n",
    "        for submatrix in image_matrix:\n",
    "            for row in submatrix:\n",
    "                for elem in submatrix:\n",
    "                    print(elem)"
   ]
  }
 ],
 "metadata": {
  "kernelspec": {
   "display_name": "Python 3",
   "language": "python",
   "name": "python3"
  },
  "language_info": {
   "codemirror_mode": {
    "name": "ipython",
    "version": 3
   },
   "file_extension": ".py",
   "mimetype": "text/x-python",
   "name": "python",
   "nbconvert_exporter": "python",
   "pygments_lexer": "ipython3",
   "version": "3.13.2"
  }
 },
 "nbformat": 4,
 "nbformat_minor": 2
}
