{
 "cells": [
  {
   "cell_type": "code",
   "execution_count": null,
   "metadata": {},
   "outputs": [],
   "source": [
    "import turtle\n",
    "import math\n",
    "from mpmath import mp\n",
    "\n",
    "degLookuptable = [36, 72, 108, 144, 180, 216, 252, 288, 324, 360]\n",
    "colorLookuptable = {\n",
    "    0: \"red\",\n",
    "    1: \"blue\",\n",
    "    2: \"green\",\n",
    "    3: \"yellow\",\n",
    "    4: \"orange\",\n",
    "    5: \"purple\",\n",
    "    6: \"pink\",\n",
    "    7: \"brown\",\n",
    "    8: \"cyan\",\n",
    "    9: \"magenta\",\n",
    "}\n",
    "\n",
    "mp.dps = 100000 # set decimal places\n",
    "pi_value = mp.pi # get pi value with 20000 decimal places\n",
    "\n",
    "piList = map(str, str(pi_value)) # convert pi value to list of integers\n",
    "\n",
    "window = turtle.Screen()\n",
    "window.bgcolor(\"black\")\n",
    "window.title(\"Turtle\")\n",
    "\n",
    "TestTurtle = turtle.Turtle()\n",
    "TestTurtle.speed(10000)\n",
    "TestTurtle.pensize(1)\n",
    "turtle.tracer(False)\n",
    "\n",
    "for i in piList:\n",
    "    if i == '.':\n",
    "        continue\n",
    "    else:\n",
    "        TestTurtle.setheading(degLookuptable[int(i)])\n",
    "        TestTurtle.color(colorLookuptable[int(i)])\n",
    "        TestTurtle.forward(5)\n",
    "\n",
    "turtle.done()"
   ]
  }
 ],
 "metadata": {
  "kernelspec": {
   "display_name": "Python 3",
   "language": "python",
   "name": "python3"
  },
  "language_info": {
   "codemirror_mode": {
    "name": "ipython",
    "version": 3
   },
   "file_extension": ".py",
   "mimetype": "text/x-python",
   "name": "python",
   "nbconvert_exporter": "python",
   "pygments_lexer": "ipython3",
   "version": "3.13.2"
  }
 },
 "nbformat": 4,
 "nbformat_minor": 2
}
